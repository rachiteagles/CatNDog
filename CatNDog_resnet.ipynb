{
  "cells": [
    {
      "cell_type": "markdown",
      "metadata": {
        "id": "lUL-jrXdNt18"
      },
      "source": [
        "Below mentioned code is written with the assumption that we are having 2 directories namely CATS and DOGS in the present directory. These directories has images of cats and dogs respectively. Directories are not uploaded to github because of large size.\n",
        "\n",
        "However, images cab be downloaded from https://www.microsoft.com/en-us/download/confirmation.aspx?id=54765\n",
        "\n"
      ]
    },
    {
      "cell_type": "code",
      "execution_count": null,
      "metadata": {
        "id": "zhc953J5Nt19"
      },
      "outputs": [],
      "source": [
        "import os\n",
        "import cv2\n",
        "import numpy as np\n",
        "import tqdm as tqdm\n",
        "import torch\n",
        "from tqdm import tqdm as tqdm"
      ]
    },
    {
      "cell_type": "code",
      "source": [
        "from google.colab import drive\n",
        "drive.mount('/content/drive')"
      ],
      "metadata": {
        "id": "iYY8Dcvlskba",
        "colab": {
          "base_uri": "https://localhost:8080/"
        },
        "outputId": "e6b394fc-78ff-4de0-8d17-76e2bdc5c670"
      },
      "execution_count": null,
      "outputs": [
        {
          "output_type": "stream",
          "name": "stdout",
          "text": [
            "Drive already mounted at /content/drive; to attempt to forcibly remount, call drive.mount(\"/content/drive\", force_remount=True).\n"
          ]
        }
      ]
    },
    {
      "cell_type": "code",
      "execution_count": null,
      "metadata": {
        "id": "ITvd-aFJNt19",
        "colab": {
          "base_uri": "https://localhost:8080/"
        },
        "outputId": "ecc55fbf-dcbc-45b8-fd9f-7c463feb28ea"
      },
      "outputs": [
        {
          "output_type": "stream",
          "name": "stdout",
          "text": [
            "/content/drive/MyDrive/Cat an Dog/kagglecatsanddogs_3367a/PetImages/Cat\n"
          ]
        },
        {
          "output_type": "stream",
          "name": "stderr",
          "text": [
            " 61%|██████    | 7676/12551 [00:49<00:17, 274.54it/s]"
          ]
        }
      ],
      "source": [
        "\n",
        "\n",
        "REBUILD_DATA = False\n",
        "\n",
        "path = '/content/drive/MyDrive/Cat an Dog/kagglecatsanddogs_3367a/PetImages/'\n",
        "class DogsVSCats():\n",
        "    IMG_SIZE = 224\n",
        "    cats = path+\"Cat\"\n",
        "    dogs = path+\"Dog\"\n",
        "    LABELS = {cats: 0, dogs: 1}\n",
        "    \n",
        "    training_data = []\n",
        "    \n",
        "    catcount = 0\n",
        "    dogcount = 0\n",
        "    \n",
        "    def make_training_data(self):\n",
        "        for label in self.LABELS:\n",
        "            print(label)\n",
        "            for f in tqdm(os.listdir(label)):\n",
        "                try:\n",
        "                \n",
        "                    path = os.path.join(label,f)\n",
        "                    \n",
        "                    img = cv2.imread(path,cv2.IMREAD_GRAYSCALE)\n",
        "                    \n",
        "                    img = cv2.resize(img, (self.IMG_SIZE, self.IMG_SIZE))\n",
        "                    # img = cv2.normalize(img, None, alpha=0, beta=255, norm_type=cv2.NORM_MINMAX)\n",
        "                    self.training_data.append([np.array(img), np.eye(2)[self.LABELS[label]]])\n",
        "\n",
        "                    if label == self.cats:\n",
        "                        self.catcount+=1\n",
        "                    elif label == self.dogs:\n",
        "                        self.dogcount+=1\n",
        "                except Exception as e:\n",
        "                    pass\n",
        "            \n",
        "        np.random.shuffle(self.training_data)\n",
        "        np.save(\"training_data_bw.npy\",self.training_data)\n",
        "        print(\"cats: \"+str(self.catcount))\n",
        "        print(\"dogs: \"+str(self.dogcount))\n",
        "        \n",
        "if REBUILD_DATA:\n",
        "    dogsvcats = DogsVSCats()\n",
        "    dogsvcats.make_training_data()"
      ]
    },
    {
      "cell_type": "markdown",
      "metadata": {
        "id": "xjyuDhGFNt1-"
      },
      "source": [
        "# Visualizing Data"
      ]
    },
    {
      "cell_type": "code",
      "execution_count": null,
      "metadata": {
        "id": "V8ksJav6Nt1-"
      },
      "outputs": [],
      "source": [
        "import os\n",
        "import cv2\n",
        "import numpy as np\n",
        "import tqdm as tqdm\n",
        "import torch"
      ]
    },
    {
      "cell_type": "code",
      "execution_count": null,
      "metadata": {
        "id": "Q8trrgFeNt1-"
      },
      "outputs": [],
      "source": [
        "if torch.cuda.is_available():\n",
        "    device = torch.device('cuda:0')\n",
        "else:\n",
        "    device = torch.device('cpu')"
      ]
    },
    {
      "cell_type": "code",
      "source": [
        "device"
      ],
      "metadata": {
        "colab": {
          "base_uri": "https://localhost:8080/"
        },
        "id": "XnJvEruowp2e",
        "outputId": "603477cc-9b0f-4654-ba43-100e25e5455e"
      },
      "execution_count": null,
      "outputs": [
        {
          "output_type": "execute_result",
          "data": {
            "text/plain": [
              "device(type='cuda', index=0)"
            ]
          },
          "metadata": {},
          "execution_count": 6
        }
      ]
    },
    {
      "cell_type": "code",
      "execution_count": null,
      "metadata": {
        "id": "nusK-JEMNt1-",
        "colab": {
          "base_uri": "https://localhost:8080/",
          "height": 311
        },
        "outputId": "c885aab3-c096-4027-b552-b6f114b520aa"
      },
      "outputs": [
        {
          "output_type": "error",
          "ename": "FileNotFoundError",
          "evalue": "ignored",
          "traceback": [
            "\u001b[0;31m---------------------------------------------------------------------------\u001b[0m",
            "\u001b[0;31mFileNotFoundError\u001b[0m                         Traceback (most recent call last)",
            "\u001b[0;32m<ipython-input-7-96c9c1b18461>\u001b[0m in \u001b[0;36m<module>\u001b[0;34m()\u001b[0m\n\u001b[1;32m      1\u001b[0m \u001b[0;32mimport\u001b[0m \u001b[0mnumpy\u001b[0m \u001b[0;32mas\u001b[0m \u001b[0mnp\u001b[0m\u001b[0;34m\u001b[0m\u001b[0;34m\u001b[0m\u001b[0m\n\u001b[0;32m----> 2\u001b[0;31m \u001b[0mtraining_data\u001b[0m \u001b[0;34m=\u001b[0m \u001b[0mnp\u001b[0m\u001b[0;34m.\u001b[0m\u001b[0mload\u001b[0m\u001b[0;34m(\u001b[0m\u001b[0;34m'/content/drive/MyDrive/training_data_bw.npy'\u001b[0m\u001b[0;34m,\u001b[0m \u001b[0mallow_pickle\u001b[0m\u001b[0;34m=\u001b[0m\u001b[0;32mTrue\u001b[0m\u001b[0;34m)\u001b[0m\u001b[0;34m\u001b[0m\u001b[0;34m\u001b[0m\u001b[0m\n\u001b[0m",
            "\u001b[0;32m/usr/local/lib/python3.7/dist-packages/numpy/lib/npyio.py\u001b[0m in \u001b[0;36mload\u001b[0;34m(file, mmap_mode, allow_pickle, fix_imports, encoding)\u001b[0m\n\u001b[1;32m    415\u001b[0m             \u001b[0mown_fid\u001b[0m \u001b[0;34m=\u001b[0m \u001b[0;32mFalse\u001b[0m\u001b[0;34m\u001b[0m\u001b[0;34m\u001b[0m\u001b[0m\n\u001b[1;32m    416\u001b[0m         \u001b[0;32melse\u001b[0m\u001b[0;34m:\u001b[0m\u001b[0;34m\u001b[0m\u001b[0;34m\u001b[0m\u001b[0m\n\u001b[0;32m--> 417\u001b[0;31m             \u001b[0mfid\u001b[0m \u001b[0;34m=\u001b[0m \u001b[0mstack\u001b[0m\u001b[0;34m.\u001b[0m\u001b[0menter_context\u001b[0m\u001b[0;34m(\u001b[0m\u001b[0mopen\u001b[0m\u001b[0;34m(\u001b[0m\u001b[0mos_fspath\u001b[0m\u001b[0;34m(\u001b[0m\u001b[0mfile\u001b[0m\u001b[0;34m)\u001b[0m\u001b[0;34m,\u001b[0m \u001b[0;34m\"rb\"\u001b[0m\u001b[0;34m)\u001b[0m\u001b[0;34m)\u001b[0m\u001b[0;34m\u001b[0m\u001b[0;34m\u001b[0m\u001b[0m\n\u001b[0m\u001b[1;32m    418\u001b[0m             \u001b[0mown_fid\u001b[0m \u001b[0;34m=\u001b[0m \u001b[0;32mTrue\u001b[0m\u001b[0;34m\u001b[0m\u001b[0;34m\u001b[0m\u001b[0m\n\u001b[1;32m    419\u001b[0m \u001b[0;34m\u001b[0m\u001b[0m\n",
            "\u001b[0;31mFileNotFoundError\u001b[0m: [Errno 2] No such file or directory: '/content/drive/MyDrive/training_data_bw.npy'"
          ]
        }
      ],
      "source": [
        "import numpy as np\n",
        "training_data = np.load('/content/drive/MyDrive/training_data_bw.npy', allow_pickle=True)"
      ]
    },
    {
      "cell_type": "code",
      "execution_count": null,
      "metadata": {
        "id": "QLcokmYkNt1-"
      },
      "outputs": [],
      "source": [
        "import matplotlib.pyplot as plt\n",
        "plt.imshow(training_data[0][0], cmap=\"gray\")"
      ]
    },
    {
      "cell_type": "markdown",
      "metadata": {
        "id": "1Q_lLugqNt1_"
      },
      "source": [
        "# Building Model"
      ]
    },
    {
      "cell_type": "code",
      "execution_count": null,
      "metadata": {
        "id": "pf1Ttvz8Nt1_"
      },
      "outputs": [],
      "source": [
        "import torch\n",
        "import torch.nn as nn\n",
        "import torch.nn.functional as F\n",
        "model = torch.hub.load('pytorch/vision:v0.10.0', 'resnet18', pretrained=True)"
      ]
    },
    {
      "cell_type": "code",
      "source": [
        ""
      ],
      "metadata": {
        "id": "xkygRhxtNLR8"
      },
      "execution_count": null,
      "outputs": []
    },
    {
      "cell_type": "code",
      "execution_count": null,
      "metadata": {
        "id": "VGOhZXzrNt1_"
      },
      "outputs": [],
      "source": [
        "model.eval()"
      ]
    },
    {
      "cell_type": "code",
      "execution_count": null,
      "metadata": {
        "id": "Q7uXjO2SNt1_"
      },
      "outputs": [],
      "source": [
        "# model.fc = nn.Sequential(*list(model.fc.children())[:-1])\n",
        "model.conv1 = nn.Conv2d(1, 64, kernel_size=(7, 7), stride=(2, 2), padding=(3, 3), bias=False)"
      ]
    },
    {
      "cell_type": "code",
      "source": [
        "model = model.to(device)"
      ],
      "metadata": {
        "id": "-eCJR2tZyzai"
      },
      "execution_count": null,
      "outputs": []
    },
    {
      "cell_type": "code",
      "execution_count": null,
      "metadata": {
        "id": "IJGoS1jXNt1_"
      },
      "outputs": [],
      "source": [
        "# model.eval()"
      ]
    },
    {
      "cell_type": "code",
      "execution_count": null,
      "metadata": {
        "id": "g4so5AalNt1_"
      },
      "outputs": [],
      "source": [
        "model(torch.reshape(torch.tensor(training_data[0][0],dtype=torch.float32),(-1,1,224,224)).to(device)).shape"
      ]
    },
    {
      "cell_type": "code",
      "execution_count": null,
      "metadata": {
        "id": "o_lYYPp5Nt1_"
      },
      "outputs": [],
      "source": [
        "\n",
        "\n",
        "net = nn.Sequential(  nn.BatchNorm2d(1),\n",
        "                      model,\n",
        "                      # nn.Linear(1000, 1000,bias=True),\n",
        "                      # nn.BatchNorm1d(1000),\n",
        "                      # nn.LeakyReLU(0.1),\n",
        "                      nn.Dropout(0.4),\n",
        "                      nn.Linear(1000, 2)\n",
        "                      ).to(device)\n"
      ]
    },
    {
      "cell_type": "code",
      "source": [
        "# net(torch.reshape(torch.tensor(training_data[0][0],dtype=torch.float32).to(device),(-1,3,224,224)))"
      ],
      "metadata": {
        "id": "-PVM-56PzAMR"
      },
      "execution_count": null,
      "outputs": []
    },
    {
      "cell_type": "markdown",
      "metadata": {
        "id": "tmC4nE1_Nt2A"
      },
      "source": [
        "# Training the Model"
      ]
    },
    {
      "cell_type": "code",
      "execution_count": null,
      "metadata": {
        "id": "QOaLIqo9Nt2A"
      },
      "outputs": [],
      "source": [
        "batch_size = 100\n",
        "epochs = 6"
      ]
    },
    {
      "cell_type": "code",
      "execution_count": null,
      "metadata": {
        "id": "rCNv6OM0Nt2A"
      },
      "outputs": [],
      "source": [
        "\n",
        "from tqdm import tqdm as tqdm\n",
        "\n",
        "optimizer = torch.optim.Adam(net.parameters(), lr=0.00001,weight_decay = 1e-5)  \n",
        "train_size = int(batch_size*0.8)\n",
        "\n",
        "for _ in range(epochs):\n",
        "  train_count = 0\n",
        "  train_cum_loss = 0\n",
        "\n",
        "  val_count = 0\n",
        "  val_cum_loss = 0\n",
        "  X=[]\n",
        "  Y=[]\n",
        "  \n",
        "  for i in tqdm(range(len(training_data))):\n",
        "      # with torch.no_grad():\n",
        "      x = torch.reshape(torch.tensor(training_data[i][0],dtype=torch.float32).to(device),(-1,1,224,224))\n",
        "      X.append(x)\n",
        "      y = torch.tensor([training_data[i][1]],dtype=torch.float32).to(device)\n",
        "      Y.append(y)\n",
        "      if i%batch_size == 0 and i != 0:\n",
        "        net.train()\n",
        "        X = torch.cat(X,dim=0)\n",
        "        X=X.view(-1,1,224,224)\n",
        "        Y = torch.cat(Y,dim=0)\n",
        "        \n",
        "\n",
        "        X_train = X[:train_size]\n",
        "        Y_train = Y[:train_size]\n",
        "\n",
        "        X_val = X[train_size:]\n",
        "        Y_val = Y[train_size:]\n",
        "\n",
        "        \n",
        "        output = net(X_train)\n",
        "        loss = F.binary_cross_entropy_with_logits(output, Y_train)\n",
        "        \n",
        "        optimizer.zero_grad()\n",
        "        loss.backward()\n",
        "        optimizer.step()\n",
        "\n",
        "\n",
        "        train_cum_loss+=loss.item()\n",
        "        train_count+=1\n",
        "\n",
        "        net.eval()\n",
        "        output_eval = net(X_val)\n",
        "        loss_eval = F.binary_cross_entropy_with_logits(output_eval, Y_val)\n",
        "\n",
        "        val_count += 1\n",
        "        val_cum_loss += loss_eval.item()\n",
        "        X=[]\n",
        "        Y=[]\n",
        "        \n",
        "  print('train loss',train_cum_loss/train_count ,'val loss',val_cum_loss/val_count)\n",
        "\n"
      ]
    },
    {
      "cell_type": "code",
      "source": [
        "X"
      ],
      "metadata": {
        "id": "RvMSDnZpr6TY"
      },
      "execution_count": null,
      "outputs": []
    },
    {
      "cell_type": "code",
      "source": [
        "torch.save(net.state_dict(),f\"catNdog.pth\")"
      ],
      "metadata": {
        "id": "2dVg0XRhc6vc"
      },
      "execution_count": null,
      "outputs": []
    },
    {
      "cell_type": "code",
      "source": [
        ""
      ],
      "metadata": {
        "id": "_VOnj2fscXwk"
      },
      "execution_count": null,
      "outputs": []
    }
  ],
  "metadata": {
    "kernelspec": {
      "display_name": "Python 3",
      "language": "python",
      "name": "python3"
    },
    "language_info": {
      "codemirror_mode": {
        "name": "ipython",
        "version": 3
      },
      "file_extension": ".py",
      "mimetype": "text/x-python",
      "name": "python",
      "nbconvert_exporter": "python",
      "pygments_lexer": "ipython3",
      "version": "3.8.8"
    },
    "colab": {
      "name": "CatNDog_resnet.ipynb",
      "provenance": [],
      "collapsed_sections": [],
      "machine_shape": "hm"
    },
    "accelerator": "GPU"
  },
  "nbformat": 4,
  "nbformat_minor": 0
}